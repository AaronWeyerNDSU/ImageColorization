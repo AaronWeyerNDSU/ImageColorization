{
  "cells": [
    {
      "cell_type": "markdown",
      "metadata": {
        "id": "Mi0K48gAy0qC"
      },
      "source": [
        "Colorspace and architecture: https://arxiv.org/abs/2204.02850  \n",
        "Fully Convolutional Networks: https://arxiv.org/pdf/1411.4038.pdf\n",
        "\n",
        "Jetson nano: 0.236 TFLOPS fp32\n",
        "\n",
        "Image colorization on youtube: https://youtu.be/WXyeQeHUxpc?si=jQfcU8Ra4StxFOwT\n",
        "\n",
        "Youtube code: https://colab.research.google.com/drive/1BsqM7GBTtsyBixy2jsLGJNiSvp1ocpV7?usp=sharing\n"
      ]
    },
    {
      "cell_type": "code",
      "execution_count": 7,
      "metadata": {
        "colab": {
          "base_uri": "https://localhost:8080/"
        },
        "id": "ujhLAO62qn4r",
        "outputId": "6dcd41ce-cf9a-4575-b5d9-caf3575a535a"
      },
      "outputs": [
        {
          "name": "stdout",
          "output_type": "stream",
          "text": [
            "Testing if GPU is available.\n",
            "GPU is available and being used.\n",
            "Current working directory: /home/aaron/git/ImageColorization\n"
          ]
        }
      ],
      "source": [
        "!pip install torchprofile 1>/dev/null\n",
        "import copy\n",
        "import math\n",
        "import random\n",
        "import time\n",
        "from collections import OrderedDict, defaultdict\n",
        "from typing import Union, List\n",
        "\n",
        "import numpy as np\n",
        "import torch\n",
        "import torchvision\n",
        "from matplotlib import pyplot as plt\n",
        "from torch import nn\n",
        "from torch.optim import *\n",
        "from torch.optim.lr_scheduler import *\n",
        "from torch.utils.data import DataLoader\n",
        "from torchvision.datasets import *\n",
        "from torchvision.transforms import *\n",
        "from tqdm.auto import tqdm\n",
        "\n",
        "from torchprofile import profile_macs # Helps us to obtain mac calculations\n",
        "\n",
        "import torch.nn.functional as F\n",
        "import os\n",
        "\n",
        "print(\"Testing if GPU is available.\")\n",
        "if torch.cuda.is_available():\n",
        "    device = torch.device(\"cuda\")\n",
        "    print(\"GPU is available and being used.\")\n",
        "else:\n",
        "    device = torch.device(\"cpu\")\n",
        "    print(\"GPU is not available, Falling back to CPU.\")\n",
        "\n",
        "#os.chdir(\"/home/aaron/git/ImageColorization/\")\n",
        "BASEADDR = os.getcwd()\n",
        "print(f\"Current working directory: {BASEADDR}\")\n"
      ]
    },
    {
      "cell_type": "markdown",
      "metadata": {},
      "source": [
        "# Download and unpack imagenet64 database\n",
        "imagenet64 is the imagenet database with each image scaled to be 64 by 64 pixels."
      ]
    },
    {
      "cell_type": "code",
      "execution_count": 10,
      "metadata": {
        "colab": {
          "base_uri": "https://localhost:8080/"
        },
        "id": "7_q0Y2ZjQ7ts",
        "outputId": "1027aefb-0575-4141-9ab0-0d42bccccdbc"
      },
      "outputs": [
        {
          "name": "stdout",
          "output_type": "stream",
          "text": [
            "Data ready!\n"
          ]
        }
      ],
      "source": [
        "\n",
        "checkpoints = f\"{BASEADDR}/checkpoints/\"\n",
        "content = f\"{BASEADDR}/content/\"\n",
        "if not os.path.exists(checkpoints):\n",
        "    os.makedirs(checkpoints)\n",
        "\n",
        "import shutil\n",
        "if not os.path.exists(f'{content}/imagenet64'):\n",
        "  if not os.path.exists(content + 'imagenet64.tar'):\n",
        "    print(\"Downloading archive...\")\n",
        "    os.chdir(checkpoints)\n",
        "    !wget https://pjreddie.com/media/files/imagenet64.tar\n",
        "  \n",
        "  if not os.path.exists(content):\n",
        "    os.makedirs(content)\n",
        "  os.chdir(content)\n",
        "  print(\"Copying to local runtime...\")\n",
        "  shutil.copy(checkpoints + 'imagenet64.tar', './imagenet64.tar')\n",
        "  print(\"Uncompressing...\")\n",
        "  !tar -xf imagenet64.tar\n",
        "\n",
        "print(\"Data ready!\")\n",
        "\n",
        "\n",
        "\n",
        "\n"
      ]
    },
    {
      "cell_type": "code",
      "execution_count": null,
      "metadata": {
        "id": "PZTbzChXHF17"
      },
      "outputs": [],
      "source": [
        "def get_imagenet64_data():\n",
        "  BATCH_SIZE = 16\n",
        "  ## transformations\n",
        "  ##transform = transforms.Compose(\n",
        "    ##  [transforms.Resize(64), transforms.RandomHorizontalFlip(), transforms.ToTensor().to(device)])\n",
        "\n",
        "  transform=transforms.Compose([\n",
        "                             transforms.RandomResizedCrop(64, scale=(1.0, 1.0), ratio=(1., 1.)),\n",
        "                              transforms.RandomHorizontalFlip(),\n",
        "                              #transforms.ColorJitter(brightness=0.05, contrast=0.05, saturation=0.05, hue=0.05),\n",
        "                              transforms.ToTensor(),\n",
        "                              #transforms.Normalize((0.5, 0.5, 0.5), (0.5, 0.5, 0.5)),\n",
        "                          ])\n",
        "\n",
        "  ## download and load training dataset\n",
        "  trainset = torchvision.datasets.ImageFolder(root='./imagenet64/train/', transform=transform)\n",
        "  trainloader = torch.utils.data.DataLoader(trainset, batch_size=BATCH_SIZE, shuffle=True, num_workers=0)\n",
        "\n",
        "  ## download and load testing dataset\n",
        "  testset = torchvision.datasets.ImageFolder(root='./imagenet64/val/', transform=transform)\n",
        "  testloader = torch.utils.data.DataLoader(testset, batch_size=128, shuffle=False, num_workers=0)\n",
        "  return {'train': trainloader, 'test': testloader}"
      ]
    },
    {
      "cell_type": "code",
      "execution_count": null,
      "metadata": {
        "colab": {
          "base_uri": "https://localhost:8080/",
          "height": 249
        },
        "id": "esNpGo4JEj-b",
        "outputId": "87e2aa8f-a1af-49ba-afa6-0135a3b88c44"
      },
      "outputs": [
        {
          "ename": "NameError",
          "evalue": "ignored",
          "output_type": "error",
          "traceback": [
            "\u001b[0;31m---------------------------------------------------------------------------\u001b[0m",
            "\u001b[0;31mNameError\u001b[0m                                 Traceback (most recent call last)",
            "\u001b[0;32m<ipython-input-2-4679ed8a3710>\u001b[0m in \u001b[0;36m<cell line: 1>\u001b[0;34m()\u001b[0m\n\u001b[0;32m----> 1\u001b[0;31m \u001b[0;32mclass\u001b[0m \u001b[0mColorizationDataset\u001b[0m\u001b[0;34m(\u001b[0m\u001b[0mDataset\u001b[0m\u001b[0;34m)\u001b[0m\u001b[0;34m:\u001b[0m\u001b[0;34m\u001b[0m\u001b[0;34m\u001b[0m\u001b[0m\n\u001b[0m\u001b[1;32m      2\u001b[0m     \u001b[0;32mdef\u001b[0m \u001b[0m__init__\u001b[0m\u001b[0;34m(\u001b[0m\u001b[0mself\u001b[0m\u001b[0;34m,\u001b[0m \u001b[0mdataset\u001b[0m\u001b[0;34m)\u001b[0m\u001b[0;34m:\u001b[0m\u001b[0;34m\u001b[0m\u001b[0;34m\u001b[0m\u001b[0m\n\u001b[1;32m      3\u001b[0m         \u001b[0mself\u001b[0m\u001b[0;34m.\u001b[0m\u001b[0mdataset\u001b[0m \u001b[0;34m=\u001b[0m \u001b[0mdataset\u001b[0m\u001b[0;34m\u001b[0m\u001b[0;34m\u001b[0m\u001b[0m\n\u001b[1;32m      4\u001b[0m \u001b[0;34m\u001b[0m\u001b[0m\n\u001b[1;32m      5\u001b[0m     \u001b[0;32mdef\u001b[0m \u001b[0m__len__\u001b[0m\u001b[0;34m(\u001b[0m\u001b[0mself\u001b[0m\u001b[0;34m)\u001b[0m\u001b[0;34m:\u001b[0m\u001b[0;34m\u001b[0m\u001b[0;34m\u001b[0m\u001b[0m\n",
            "\u001b[0;31mNameError\u001b[0m: name 'Dataset' is not defined"
          ]
        }
      ],
      "source": [
        "class ColorizationDataset(Dataset):\n",
        "    def __init__(self, dataset):\n",
        "        self.dataset = dataset\n",
        "\n",
        "    def __len__(self):\n",
        "        return len(self.dataset)\n",
        "\n",
        "    def __getitem__(self, idx):\n",
        "        # Load color image\n",
        "        color_img, _ = self.dataset[idx]\n",
        "\n",
        "        # Convert color image to grayscale\n",
        "        grayscale_img = color_img.mean(dim=0, keepdim=True)\n",
        "\n",
        "        return grayscale_img, color_img\n"
      ]
    },
    {
      "cell_type": "code",
      "execution_count": null,
      "metadata": {
        "id": "n86xjgKPti7d"
      },
      "outputs": [],
      "source": [
        "from cycler import concat\n",
        "class GrayNet(nn.Module):\n",
        "    def __init__(self):\n",
        "        super(GrayNet, self).__init__()\n",
        "        channels = 16\n",
        "        #block 1\n",
        "        self.conv1 = nn.Conv2d(1, channels, 3, padding=1)\n",
        "        self.conv2 = nn.Conv2d(channels, channels, 3, padding=1)\n",
        "        self.bn1 = nn.BatchNorm2d(channels)\n",
        "        self.bn2 = nn.BatchNorm2d(channels)\n",
        "\n",
        "        #block 2\n",
        "        self.conv3 = nn.Conv2d(channels, channels*2, 3, padding=1)\n",
        "        self.conv4 = nn.Conv2d(channels*2, channels*2, 3, padding=1)\n",
        "        self.bn3 = nn.BatchNorm2d(channels*2)\n",
        "        self.bn4 = nn.BatchNorm2d(channels*2)\n",
        "\n",
        "        #block 3\n",
        "        self.conv5 = nn.Conv2d(channels*2, channels*4, 3, padding=1)\n",
        "        self.conv6 = nn.Conv2d(channels*4, channels*4, 3, padding=1)\n",
        "        self.bn5 = nn.BatchNorm2d(channels*4)\n",
        "        self.bn6 = nn.BatchNorm2d(channels*4)\n",
        "\n",
        "        #block 4\n",
        "        self.conv7 = nn.Conv2d(channels*4, channels*8, 3, padding=1)\n",
        "        self.conv8 = nn.Conv2d(channels*8, channels*8, 3, padding=1)\n",
        "        self.bn7 = nn.BatchNorm2d(channels*8)\n",
        "        self.bn8 = nn.BatchNorm2d(channels*8)\n",
        "\n",
        "        #block 5\n",
        "        self.conv9 = nn.Conv2d(channels*8, channels*8, 3, padding=1)\n",
        "        self.bn9 = nn.BatchNorm2d(channels*8)\n",
        "        self.conv10 = nn.ConvTranspose2d(channels*8,channels*8, kernel_size=2,stride=2)\n",
        "\n",
        "        #block 6\n",
        "        self.conv11 = nn.Conv2d(channels*16, channels*8, 3, padding=1)\n",
        "        self.conv12 = nn.Conv2d(channels*8, channels*4, 3, padding=1)\n",
        "        self.bn11 = nn.BatchNorm2d(channels*8)\n",
        "        self.bn12 = nn.BatchNorm2d(channels*4)\n",
        "        self.conv13 = nn.ConvTranspose2d(channels*4,channels*4, kernel_size=2,stride=2)\n",
        "\n",
        "        #block 7\n",
        "        self.conv14 = nn.Conv2d(channels*8, channels*4, 3, padding=1)\n",
        "        self.conv15 = nn.Conv2d(channels*4, channels*2, 3, padding=1)\n",
        "        self.bn14 = nn.BatchNorm2d(channels*4)\n",
        "        self.bn15 = nn.BatchNorm2d(channels*2)\n",
        "        self.conv16 = nn.ConvTranspose2d(channels*2,channels*2, kernel_size=2,stride=2)\n",
        "\n",
        "        #block 8\n",
        "        self.conv17 = nn.Conv2d(channels*4, channels*2, 3, padding=1)\n",
        "        self.conv18 = nn.Conv2d(channels*2, channels, 3, padding=1)\n",
        "        self.bn17 = nn.BatchNorm2d(channels*2)\n",
        "        self.bn18 = nn.BatchNorm2d(channels)\n",
        "        self.conv19 = nn.ConvTranspose2d(channels,channels, kernel_size=2,stride=2)\n",
        "\n",
        "        #block 9\n",
        "        self.conv20 = nn.Conv2d(channels, channels, 3, padding=1)\n",
        "        self.conv21 = nn.Conv2d(channels, channels, 3, padding=1)\n",
        "        self.conv22 = nn.Conv2d(channels, 3, 3, padding=1)\n",
        "        self.bn20 = nn.BatchNorm2d(channels)\n",
        "        self.bn21 = nn.BatchNorm2d(channels)\n",
        "        self.bn22 = nn.BatchNorm2d(3)\n",
        "\n",
        "    def forward(self, x):\n",
        "        # Input 64x64x3\n",
        "        #block1\n",
        "        x = F.relu(self.bn2(self.conv2(F.relu(self.bn1(self.conv1(x)))))) # 32x32xchannels\n",
        "        block1 = x\n",
        "        x = F.max_pool2d(x,2)\n",
        "        print(x.size())\n",
        "        x = F.relu(self.bn4(self.conv4(F.relu(self.bn3(self.conv3(x)))))) # 16x16xchannels*2\n",
        "        block2 = x\n",
        "        x = F.max_pool2d(x,2)\n",
        "        print(x.size())\n",
        "        x = F.relu(self.bn6(self.conv6(F.relu(self.bn5(self.conv5(x)))))) # 8x8xchannels*4\n",
        "        block3 = x\n",
        "        x = F.max_pool2d(x,2)\n",
        "        print(x.size())\n",
        "        x = F.relu(self.bn8(self.conv8(F.relu(self.bn7(self.conv7(x)))))) # 4x4xchannels*8\n",
        "        block4 = x\n",
        "        x = F.max_pool2d(x,2)\n",
        "        print(x.size())\n",
        "\n",
        "        x = self.conv10(F.relu(self.bn9(self.conv9(x)))) # 8x8xchannels*8\n",
        "        print(x.size())\n",
        "\n",
        "        x = torch.cat((x,block4),1) #8x8xchannels*16\n",
        "        x = self.conv13(F.relu(self.bn12(self.conv12(F.relu(self.bn11(self.conv11(x))))))) #16x16xchannels*4\n",
        "        print(x.size())\n",
        "\n",
        "        x =torch.cat((x,block3),1)#16x16xchannels*8\n",
        "        x = self.conv16(F.relu(self.bn15(self.conv15(F.relu(self.bn14(self.conv14(x))))))) #32x32xchannels*2\n",
        "        print(x.size())\n",
        "\n",
        "        x =torch.cat((x,block2),1) #32x32xchannels*4\n",
        "        x = self.conv19(F.relu(self.bn18(self.conv18(F.relu(self.bn17(self.conv17(x))))))) #64x64xchannels\n",
        "        print(x.size())\n",
        "\n",
        "        x = F.relu(self.bn22(self.conv22(F.relu(self.bn21(self.conv21(F.relu(self.bn20(self.conv20(x))))))))) #64x64x3\n",
        "        print(x.size())\n",
        "\n",
        "        return x\n"
      ]
    },
    {
      "cell_type": "code",
      "execution_count": null,
      "metadata": {
        "colab": {
          "base_uri": "https://localhost:8080/"
        },
        "id": "3Vgkz2Ra3DVx",
        "outputId": "710e1b3a-a461-49d3-f39d-ce9fb89a18de"
      },
      "outputs": [
        {
          "name": "stdout",
          "output_type": "stream",
          "text": [
            "torch.Size([1, 16, 128, 128])\n",
            "torch.Size([1, 32, 64, 64])\n",
            "torch.Size([1, 64, 32, 32])\n",
            "torch.Size([1, 128, 16, 16])\n",
            "torch.Size([1, 128, 32, 32])\n",
            "torch.Size([1, 64, 64, 64])\n",
            "torch.Size([1, 32, 128, 128])\n",
            "torch.Size([1, 16, 256, 256])\n",
            "torch.Size([1, 3, 256, 256])\n"
          ]
        },
        {
          "data": {
            "text/plain": [
              "tensor([[[[0.7157, 0.7054, 0.5876,  ..., 0.9107, 0.7119, 0.5982],\n",
              "          [0.4922, 1.2102, 0.0000,  ..., 1.6449, 0.0000, 0.3324],\n",
              "          [0.0518, 1.0902, 0.1599,  ..., 0.0000, 0.1502, 0.2988],\n",
              "          ...,\n",
              "          [0.7021, 0.8927, 0.4390,  ..., 0.8731, 0.0000, 0.9250],\n",
              "          [1.0109, 0.3495, 0.1293,  ..., 1.7468, 1.2733, 0.2602],\n",
              "          [0.3846, 0.4307, 0.0000,  ..., 1.2900, 0.5161, 0.1426]],\n",
              "\n",
              "         [[0.0199, 0.0000, 0.0000,  ..., 0.0000, 0.0000, 0.0000],\n",
              "          [0.0000, 0.0000, 0.8285,  ..., 0.2546, 0.0000, 0.0000],\n",
              "          [0.2397, 0.0000, 0.0745,  ..., 0.0000, 0.0000, 0.0000],\n",
              "          ...,\n",
              "          [0.1146, 0.0000, 0.1641,  ..., 0.0000, 0.0000, 0.0000],\n",
              "          [0.0000, 0.0000, 0.2560,  ..., 0.0000, 0.0941, 0.8178],\n",
              "          [0.0000, 0.0000, 0.0000,  ..., 0.0000, 0.0000, 0.0000]],\n",
              "\n",
              "         [[0.0000, 0.0000, 0.0000,  ..., 0.0000, 0.0000, 0.0000],\n",
              "          [0.1027, 0.0000, 0.0000,  ..., 0.0000, 0.0000, 0.0000],\n",
              "          [0.0000, 0.0000, 0.0000,  ..., 0.0000, 0.3438, 0.2630],\n",
              "          ...,\n",
              "          [0.3196, 0.7357, 0.0000,  ..., 0.0000, 0.5102, 0.0000],\n",
              "          [0.1694, 0.0000, 0.7561,  ..., 0.4400, 1.5675, 0.0000],\n",
              "          [0.1391, 0.0000, 0.8489,  ..., 0.0000, 1.0531, 0.0000]]]],\n",
              "       grad_fn=<ReluBackward0>)"
            ]
          },
          "execution_count": 40,
          "metadata": {},
          "output_type": "execute_result"
        }
      ],
      "source": [
        "testInput = torch.randn(1,1,256,256)\n",
        "\n",
        "testNetwork = GrayNet()\n",
        "testNetwork(testInput)"
      ]
    },
    {
      "cell_type": "code",
      "execution_count": null,
      "metadata": {
        "id": "iJHVne8wHe0O"
      },
      "outputs": [],
      "source": [
        "#Model size\n",
        "def get_model_macs(model, inputs) -> int:\n",
        "  # We iimported profile_macs in the necessary packages loaded\n",
        "    return profile_macs(model, inputs)\n",
        "\n",
        "def get_num_parameters(model: nn.Module, count_nonzero_only=False) -> int:\n",
        "    \"\"\"\n",
        "    calculate the total number of parameters of model\n",
        "    :param count_nonzero_only: only count nonzero weights\n",
        "    \"\"\"\n",
        "    num_counted_elements = 0\n",
        "    for param in model.parameters():\n",
        "        if count_nonzero_only:\n",
        "            num_counted_elements += param.count_nonzero()\n",
        "        else:\n",
        "            num_counted_elements += param.numel()\n",
        "    return num_counted_elements\n",
        "def get_model_size(model: nn.Module, data_width=32, count_nonzero_only=False) -> int:\n",
        "    \"\"\"\n",
        "    calculate the model size in bits\n",
        "    :param data_width: #bits per element\n",
        "    :param count_nonzero_only: only count nonzero weights\n",
        "    \"\"\"\n",
        "    return get_num_parameters(model, count_nonzero_only) * data_width\n",
        "Byte = 8\n",
        "KiB = 1024 * Byte\n",
        "MiB = 1024 * KiB\n",
        "GiB = 1024 * MiB\n"
      ]
    },
    {
      "cell_type": "code",
      "execution_count": null,
      "metadata": {
        "colab": {
          "base_uri": "https://localhost:8080/"
        },
        "id": "BhQhQJ9GI-Dh",
        "outputId": "dd951b07-e310-4f9f-ea6b-b31bb3928298"
      },
      "outputs": [
        {
          "name": "stdout",
          "output_type": "stream",
          "text": [
            "model has size=3.89 MiB\n",
            "torch.Size([1, 16, 128, 128])\n",
            "torch.Size([1, 32, 64, 64])\n",
            "torch.Size([1, 64, 32, 32])\n",
            "torch.Size([1, 128, 16, 16])\n",
            "torch.Size([1, 128, 32, 32])\n",
            "torch.Size([1, 64, 64, 64])\n",
            "torch.Size([1, 32, 128, 128])\n",
            "torch.Size([1, 16, 256, 256])\n",
            "torch.Size([1, 3, 256, 256])\n",
            "2616492032\n",
            "0.022173661288135593\n",
            "45.09855124985911\n"
          ]
        }
      ],
      "source": [
        "model = GrayNet()\n",
        "model_size = get_model_size(model)\n",
        "print(f\"model has size={model_size/MiB:.2f} MiB\")\n",
        "macs = get_model_macs(model,testInput)\n",
        "latency = (macs*2)/(0.236*10**12)\n",
        "fps = latency**-1\n",
        "print(macs)\n",
        "print(latency)\n",
        "print(fps)\n"
      ]
    },
    {
      "cell_type": "code",
      "execution_count": null,
      "metadata": {
        "colab": {
          "base_uri": "https://localhost:8080/",
          "height": 216
        },
        "id": "ZB04pOeErVjQ",
        "outputId": "fe9b1906-2abf-4653-8a64-f199507f19e3"
      },
      "outputs": [
        {
          "name": "stderr",
          "output_type": "stream",
          "text": [
            "WARNING:matplotlib.image:Clipping input data to the valid range for imshow with RGB data ([0..1] for floats or [0..255] for integers).\n"
          ]
        },
        {
          "name": "stdout",
          "output_type": "stream",
          "text": [
            "torch.Size([8, 3, 64, 64])\n"
          ]
        },
        {
          "data": {
            "image/png": "[encoded data removed]",
            "text/plain": [
              "<Figure size 640x480 with 1 Axes>"
            ]
          },
          "metadata": {},
          "output_type": "display_data"
        },
        {
          "name": "stdout",
          "output_type": "stream",
          "text": [
            "Labels:tensor(227) tensor(69) tensor(870) tensor(464) tensor(316) tensor(74) tensor(710) tensor(767)\n",
            "torch.Size([8, 3, 64, 64])\n",
            "torch.Size([8, 12288])\n"
          ]
        }
      ],
      "source": [
        "\n",
        "data = get_imagenet64_data()\n",
        "dataiter = iter(data['train'])\n",
        "##images, labels = dataiter.next()\n",
        "images, labels = next(dataiter)\n",
        "images = images[:8]\n",
        "print(images.size())\n",
        "\n",
        "def imshow(img):\n",
        "    npimg = img.numpy()\n",
        "    plt.imshow(np.transpose(npimg, (1, 2, 0)))\n",
        "    plt.show()\n",
        "\n",
        "# show images\n",
        "imshow(torchvision.utils.make_grid(images))\n",
        "# print labels\n",
        "print(\"Labels:\" + ' '.join('%9s' % labels[j] for j in range(8)))\n",
        "\n",
        "flat = torch.flatten(images, 1)\n",
        "print(images.size())\n",
        "print(flat.size())\n",
        "\n"
      ]
    },
    {
      "cell_type": "code",
      "execution_count": null,
      "metadata": {
        "id": "F1y5uLukqp4T"
      },
      "outputs": [],
      "source": []
    }
  ],
  "metadata": {
    "accelerator": "GPU",
    "colab": {
      "gpuType": "T4",
      "provenance": []
    },
    "kernelspec": {
      "display_name": "Python 3",
      "name": "python3"
    },
    "language_info": {
      "codemirror_mode": {
        "name": "ipython",
        "version": 3
      },
      "file_extension": ".py",
      "mimetype": "text/x-python",
      "name": "python",
      "nbconvert_exporter": "python",
      "pygments_lexer": "ipython3",
      "version": "3.10.12"
    }
  },
  "nbformat": 4,
  "nbformat_minor": 0
}
