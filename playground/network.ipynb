{
 "cells": [
  {
   "cell_type": "markdown",
   "metadata": {},
   "source": [
    "# Image Colorization Neural Network\n",
    "### Imports and Environment setup."
   ]
  },
  {
   "cell_type": "code",
   "execution_count": 6,
   "metadata": {},
   "outputs": [
    {
     "name": "stdout",
     "output_type": "stream",
     "text": [
      "Testing if GPU is available.\n",
      "GPU is available and being used.\n"
     ]
    }
   ],
   "source": [
    "import torch\n",
    "from torchvision import transforms\n",
    "from PIL import Image\n",
    "import os\n",
    "from glob import glob\n",
    "\n",
    "print(\"Testing if GPU is available.\")\n",
    "if torch.cuda.is_available():\n",
    "    device = torch.device(\"cuda\")\n",
    "    print(\"GPU is available and being used.\")\n",
    "else:\n",
    "    device = torch.device(\"cpu\")\n",
    "    print(\"GPU is not available, Falling back to CPU.\")"
   ]
  },
  {
   "cell_type": "code",
   "execution_count": 2,
   "metadata": {},
   "outputs": [
    {
     "name": "stderr",
     "output_type": "stream",
     "text": [
      "/snap/core20/current/lib/x86_64-linux-gnu/libstdc++.so.6: version `GLIBCXX_3.4.29' not found (required by /lib/x86_64-linux-gnu/libproxy.so.1)\n",
      "Failed to load module: /home/aaron/snap/code/common/.cache/gio-modules/libgiolibproxy.so\n",
      "eog: symbol lookup error: /snap/core20/current/lib/x86_64-linux-gnu/libpthread.so.0: undefined symbol: __libc_pthread_init, version GLIBC_PRIVATE\n"
     ]
    },
    {
     "ename": "NameError",
     "evalue": "name 'plt' is not defined",
     "output_type": "error",
     "traceback": [
      "\u001b[0;31m---------------------------------------------------------------------------\u001b[0m",
      "\u001b[0;31mNameError\u001b[0m                                 Traceback (most recent call last)",
      "\u001b[1;32m/home/aaron/git/ImageColorization/network.ipynb Cell 3\u001b[0m line \u001b[0;36m3\n\u001b[1;32m      <a href='vscode-notebook-cell:/home/aaron/git/ImageColorization/network.ipynb#W2sZmlsZQ%3D%3D?line=0'>1</a>\u001b[0m img \u001b[39m=\u001b[39m Image\u001b[39m.\u001b[39mopen(\u001b[39mf\u001b[39m\u001b[39m\"\u001b[39m\u001b[39m{\u001b[39;00mos\u001b[39m.\u001b[39mgetcwd()\u001b[39m}\u001b[39;00m\u001b[39m/images/color/testImg.jpg\u001b[39m\u001b[39m\"\u001b[39m)\n\u001b[1;32m      <a href='vscode-notebook-cell:/home/aaron/git/ImageColorization/network.ipynb#W2sZmlsZQ%3D%3D?line=1'>2</a>\u001b[0m img\u001b[39m.\u001b[39mshow()\n\u001b[0;32m----> <a href='vscode-notebook-cell:/home/aaron/git/ImageColorization/network.ipynb#W2sZmlsZQ%3D%3D?line=2'>3</a>\u001b[0m plt\u001b[39m.\u001b[39mshow()\n",
      "\u001b[0;31mNameError\u001b[0m: name 'plt' is not defined"
     ]
    }
   ],
   "source": [
    "img = Image.open(f\"{os.getcwd()}/images/color/testImg.jpg\")\n",
    "img.show()\n",
    "plt.show()"
   ]
  },
  {
   "cell_type": "code",
   "execution_count": 30,
   "metadata": {},
   "outputs": [
    {
     "name": "stdout",
     "output_type": "stream",
     "text": [
      "/home/aaron/git/ImageColorization/images/color/TEST.JPEG\n"
     ]
    }
   ],
   "source": [
    "#pathColor = \"/media/aaron/Storage/imagenet/ILSVRC/Data/CLS-LOC/train/*/*.JPEG\"\n",
    "pathColor = f\"{os.getcwd()}/images/color/*.jpg\"\n",
    "pathTensor = f\"{os.getcwd()}/images/tensors/\"\n",
    "\n",
    "convert_tensor = transforms.ToTensor()\n",
    "gray = transforms.Grayscale()\n",
    "\n",
    "for file in glob(pathColor):\n",
    "    # Get filename and convert it to tensor name.\n",
    "    name = os.path.split(file)[1]\n",
    "    name = os.path.splitext(name)[0]\n",
    "    tensorName = os.path.join(pathTensor, name + \".t\")\n",
    "\n",
    "    # Check if converted tensor already exists.\n",
    "    if os.path.exists(tensorName): \n",
    "        continue\n",
    "\n",
    "    # # Open image and convert it to grayscale.\n",
    "    # img = Image.open(file)\n",
    "    # img = convert_tensor(img).to(device)\n",
    "    # img = gray(img)\n",
    "\n",
    "    # # Save grayscale tensor.\n",
    "    # torch.save(img, tensorName)\n",
    "    # print(file)\n",
    "    # print(tensorName)\n",
    "    \n",
    "    img = Image.open(file).convert('L').resize((256,256))\n",
    "    print(f\"{os.getcwd()}/images/color/TEST.JPEG\")\n",
    "    img.save(f\"{os.getcwd()}/images/color/TEST.JPEG\")\n",
    "\n",
    " \n",
    "\n",
    "\n"
   ]
  },
  {
   "cell_type": "code",
   "execution_count": 29,
   "metadata": {},
   "outputs": [
    {
     "ename": "AttributeError",
     "evalue": "'Tensor' object has no attribute 'imshow'",
     "output_type": "error",
     "traceback": [
      "\u001b[0;31m---------------------------------------------------------------------------\u001b[0m",
      "\u001b[0;31mAttributeError\u001b[0m                            Traceback (most recent call last)",
      "\u001b[1;32m/home/aaron/git/ImageColorization/network.ipynb Cell 5\u001b[0m line \u001b[0;36m7\n\u001b[1;32m      <a href='vscode-notebook-cell:/home/aaron/git/ImageColorization/network.ipynb#W4sZmlsZQ%3D%3D?line=3'>4</a>\u001b[0m img \u001b[39m=\u001b[39m convert_tensor(img)\n\u001b[1;32m      <a href='vscode-notebook-cell:/home/aaron/git/ImageColorization/network.ipynb#W4sZmlsZQ%3D%3D?line=4'>5</a>\u001b[0m \u001b[39m#img = gray(img)\u001b[39;00m\n\u001b[1;32m      <a href='vscode-notebook-cell:/home/aaron/git/ImageColorization/network.ipynb#W4sZmlsZQ%3D%3D?line=5'>6</a>\u001b[0m \u001b[39m#print(img.size())\u001b[39;00m\n\u001b[0;32m----> <a href='vscode-notebook-cell:/home/aaron/git/ImageColorization/network.ipynb#W4sZmlsZQ%3D%3D?line=6'>7</a>\u001b[0m img\u001b[39m.\u001b[39;49mpermute(\u001b[39m1\u001b[39;49m,\u001b[39m2\u001b[39;49m,\u001b[39m0\u001b[39;49m)\u001b[39m.\u001b[39;49mimshow()\n",
      "\u001b[0;31mAttributeError\u001b[0m: 'Tensor' object has no attribute 'imshow'"
     ]
    }
   ],
   "source": [
    "img = Image.open(f\"{os.getcwd()}/images/color/testImg.jpg\")\n",
    "convert_tensor = transforms.ToTensor()\n",
    "gray = transforms.Grayscale()\n",
    "img = convert_tensor(img)\n",
    "#img = gray(img)\n",
    "#print(img.size())\n",
    "img.permute(1,2,0).imshow()\n"
   ]
  }
 ],
 "metadata": {
  "kernelspec": {
   "display_name": "Python 3",
   "language": "python",
   "name": "python3"
  },
  "language_info": {
   "codemirror_mode": {
    "name": "ipython",
    "version": 3
   },
   "file_extension": ".py",
   "mimetype": "text/x-python",
   "name": "python",
   "nbconvert_exporter": "python",
   "pygments_lexer": "ipython3",
   "version": "3.10.12"
  }
 },
 "nbformat": 4,
 "nbformat_minor": 2
}
